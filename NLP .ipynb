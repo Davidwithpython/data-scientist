{
 "cells": [
  {
   "cell_type": "markdown",
   "id": "1ceb4c56-cbf4-489e-9c42-a6218bb935e7",
   "metadata": {},
   "source": [
    "# NLU\n",
    "natural languages understanding\n"
   ]
  },
  {
   "cell_type": "code",
   "execution_count": 89,
   "id": "a2e4e3da-b657-4140-95fc-3e2f5ce0e86c",
   "metadata": {},
   "outputs": [],
   "source": [
    "doc1='foo@d is 100good'\n",
    "doc2='Food! is not good'\n",
    "doc3='Food quality is not goo$d'\n",
    "doc4='will not recommend to other?'\n",
    "doc5='Food quality is good'\n",
    "final=['pos','neg','neg','neg','pos']\n",
    "corpus=[doc1,doc2,doc3,doc4,doc5]"
   ]
  },
  {
   "cell_type": "code",
   "execution_count": 90,
   "id": "135303d8-c97c-495b-b5c2-d1ef6cecbcb2",
   "metadata": {},
   "outputs": [
    {
     "data": {
      "text/plain": [
       "['foo@d is 100good',\n",
       " 'Food! is not good',\n",
       " 'Food quality is not goo$d',\n",
       " 'will not recommend to other?',\n",
       " 'Food quality is good']"
      ]
     },
     "execution_count": 90,
     "metadata": {},
     "output_type": "execute_result"
    }
   ],
   "source": [
    "corpus"
   ]
  },
  {
   "cell_type": "code",
   "execution_count": 91,
   "id": "e248340c-3944-48b2-ae38-52ba1ef32b05",
   "metadata": {},
   "outputs": [
    {
     "data": {
      "text/plain": [
       "['foo@d is 100good',\n",
       " 'food! is not good',\n",
       " 'food quality is not goo$d',\n",
       " 'will not recommend to other?',\n",
       " 'food quality is good']"
      ]
     },
     "execution_count": 91,
     "metadata": {},
     "output_type": "execute_result"
    }
   ],
   "source": [
    "corpus1=list(map(str.lower,corpus))\n",
    "corpus1"
   ]
  },
  {
   "cell_type": "code",
   "execution_count": 92,
   "id": "9c31dbc2-1ca1-46db-8c9f-aab1371dc977",
   "metadata": {},
   "outputs": [
    {
     "data": {
      "text/plain": [
       "['food is good',\n",
       " 'food is not good',\n",
       " 'food quality is not good',\n",
       " 'will not recommend to other',\n",
       " 'food quality is good']"
      ]
     },
     "execution_count": 92,
     "metadata": {},
     "output_type": "execute_result"
    }
   ],
   "source": [
    "def remove_pun(doc):\n",
    "    import re\n",
    "    return re.sub('[^a-z ]','',doc)\n",
    "corpus2=list(map(remove_pun,corpus1))\n",
    "corpus2"
   ]
  },
  {
   "cell_type": "code",
   "execution_count": 97,
   "id": "7c69234d-eb42-4d1e-adc0-428fca109e78",
   "metadata": {},
   "outputs": [],
   "source": [
    "import nltk\n",
    "#nltk.download()"
   ]
  },
  {
   "cell_type": "code",
   "execution_count": 94,
   "id": "1eb9f938-4688-4dbb-af01-4fa9469544a2",
   "metadata": {},
   "outputs": [],
   "source": [
    "from nltk.corpus import stopwords\n",
    "sw=stopwords.words('english')"
   ]
  },
  {
   "cell_type": "code",
   "execution_count": 95,
   "id": "beacb808-5640-4705-9a58-35ee1a7593d2",
   "metadata": {},
   "outputs": [],
   "source": [
    "sw.remove('not')"
   ]
  },
  {
   "cell_type": "code",
   "execution_count": 96,
   "id": "b7b64f4a-9582-4a23-b367-426e3917bfd6",
   "metadata": {},
   "outputs": [],
   "source": [
    "from nltk.stem import PorterStemmer\n",
    "ps=PorterStemmer()\n"
   ]
  },
  {
   "cell_type": "code",
   "execution_count": 98,
   "id": "fd229dc9-70c4-481e-8b2c-bc415f864642",
   "metadata": {},
   "outputs": [
    {
     "data": {
      "text/plain": [
       "['food good ',\n",
       " 'food not good ',\n",
       " 'food qualiti not good ',\n",
       " 'not recommend ',\n",
       " 'food qualiti good ']"
      ]
     },
     "execution_count": 98,
     "metadata": {},
     "output_type": "execute_result"
    }
   ],
   "source": [
    "def check_word(doc):\n",
    "    tokens=doc.split()\n",
    "    new=''\n",
    "    for i in tokens:\n",
    "        if i not in sw:\n",
    "            new=new+ps.stem(i)+' '\n",
    "    return new\n",
    "corpus3=list(map(check_word,corpus2))\n",
    "corpus3\n",
    "            "
   ]
  },
  {
   "cell_type": "code",
   "execution_count": 99,
   "id": "e3f85637-43d1-4262-93ab-7d99f9a3cf86",
   "metadata": {},
   "outputs": [],
   "source": [
    "from sklearn.feature_extraction.text import CountVectorizer,TfidfVectorizer"
   ]
  },
  {
   "cell_type": "code",
   "execution_count": 100,
   "id": "909c3ccf-a0a7-4b9d-817a-05c9926acecb",
   "metadata": {},
   "outputs": [
    {
     "name": "stdout",
     "output_type": "stream",
     "text": [
      "['food' 'good' 'not' 'qualiti' 'recommend']\n"
     ]
    }
   ],
   "source": [
    "cv=CountVectorizer()\n",
    "x=cv.fit_transform(corpus3)\n",
    "print(cv.get_feature_names_out())"
   ]
  },
  {
   "cell_type": "code",
   "execution_count": 101,
   "id": "0092804d-6b12-4b9e-b298-0f3bab5007ce",
   "metadata": {},
   "outputs": [
    {
     "data": {
      "text/plain": [
       "array([[1, 1, 0, 0, 0],\n",
       "       [1, 1, 1, 0, 0],\n",
       "       [1, 1, 1, 1, 0],\n",
       "       [0, 0, 1, 0, 1],\n",
       "       [1, 1, 0, 1, 0]], dtype=int64)"
      ]
     },
     "execution_count": 101,
     "metadata": {},
     "output_type": "execute_result"
    }
   ],
   "source": [
    "x.toarray()"
   ]
  },
  {
   "cell_type": "code",
   "execution_count": 102,
   "id": "8ce2f63b-8b47-483a-b65a-2f4f8745c0c4",
   "metadata": {},
   "outputs": [],
   "source": [
    "from sklearn.linear_model import LogisticRegression"
   ]
  },
  {
   "cell_type": "code",
   "execution_count": 103,
   "id": "865fe126-78fa-4655-ad89-ea1915b38de1",
   "metadata": {},
   "outputs": [
    {
     "data": {
      "text/html": [
       "<style>#sk-container-id-2 {color: black;background-color: white;}#sk-container-id-2 pre{padding: 0;}#sk-container-id-2 div.sk-toggleable {background-color: white;}#sk-container-id-2 label.sk-toggleable__label {cursor: pointer;display: block;width: 100%;margin-bottom: 0;padding: 0.3em;box-sizing: border-box;text-align: center;}#sk-container-id-2 label.sk-toggleable__label-arrow:before {content: \"▸\";float: left;margin-right: 0.25em;color: #696969;}#sk-container-id-2 label.sk-toggleable__label-arrow:hover:before {color: black;}#sk-container-id-2 div.sk-estimator:hover label.sk-toggleable__label-arrow:before {color: black;}#sk-container-id-2 div.sk-toggleable__content {max-height: 0;max-width: 0;overflow: hidden;text-align: left;background-color: #f0f8ff;}#sk-container-id-2 div.sk-toggleable__content pre {margin: 0.2em;color: black;border-radius: 0.25em;background-color: #f0f8ff;}#sk-container-id-2 input.sk-toggleable__control:checked~div.sk-toggleable__content {max-height: 200px;max-width: 100%;overflow: auto;}#sk-container-id-2 input.sk-toggleable__control:checked~label.sk-toggleable__label-arrow:before {content: \"▾\";}#sk-container-id-2 div.sk-estimator input.sk-toggleable__control:checked~label.sk-toggleable__label {background-color: #d4ebff;}#sk-container-id-2 div.sk-label input.sk-toggleable__control:checked~label.sk-toggleable__label {background-color: #d4ebff;}#sk-container-id-2 input.sk-hidden--visually {border: 0;clip: rect(1px 1px 1px 1px);clip: rect(1px, 1px, 1px, 1px);height: 1px;margin: -1px;overflow: hidden;padding: 0;position: absolute;width: 1px;}#sk-container-id-2 div.sk-estimator {font-family: monospace;background-color: #f0f8ff;border: 1px dotted black;border-radius: 0.25em;box-sizing: border-box;margin-bottom: 0.5em;}#sk-container-id-2 div.sk-estimator:hover {background-color: #d4ebff;}#sk-container-id-2 div.sk-parallel-item::after {content: \"\";width: 100%;border-bottom: 1px solid gray;flex-grow: 1;}#sk-container-id-2 div.sk-label:hover label.sk-toggleable__label {background-color: #d4ebff;}#sk-container-id-2 div.sk-serial::before {content: \"\";position: absolute;border-left: 1px solid gray;box-sizing: border-box;top: 0;bottom: 0;left: 50%;z-index: 0;}#sk-container-id-2 div.sk-serial {display: flex;flex-direction: column;align-items: center;background-color: white;padding-right: 0.2em;padding-left: 0.2em;position: relative;}#sk-container-id-2 div.sk-item {position: relative;z-index: 1;}#sk-container-id-2 div.sk-parallel {display: flex;align-items: stretch;justify-content: center;background-color: white;position: relative;}#sk-container-id-2 div.sk-item::before, #sk-container-id-2 div.sk-parallel-item::before {content: \"\";position: absolute;border-left: 1px solid gray;box-sizing: border-box;top: 0;bottom: 0;left: 50%;z-index: -1;}#sk-container-id-2 div.sk-parallel-item {display: flex;flex-direction: column;z-index: 1;position: relative;background-color: white;}#sk-container-id-2 div.sk-parallel-item:first-child::after {align-self: flex-end;width: 50%;}#sk-container-id-2 div.sk-parallel-item:last-child::after {align-self: flex-start;width: 50%;}#sk-container-id-2 div.sk-parallel-item:only-child::after {width: 0;}#sk-container-id-2 div.sk-dashed-wrapped {border: 1px dashed gray;margin: 0 0.4em 0.5em 0.4em;box-sizing: border-box;padding-bottom: 0.4em;background-color: white;}#sk-container-id-2 div.sk-label label {font-family: monospace;font-weight: bold;display: inline-block;line-height: 1.2em;}#sk-container-id-2 div.sk-label-container {text-align: center;}#sk-container-id-2 div.sk-container {/* jupyter's `normalize.less` sets `[hidden] { display: none; }` but bootstrap.min.css set `[hidden] { display: none !important; }` so we also need the `!important` here to be able to override the default hidden behavior on the sphinx rendered scikit-learn.org. See: https://github.com/scikit-learn/scikit-learn/issues/21755 */display: inline-block !important;position: relative;}#sk-container-id-2 div.sk-text-repr-fallback {display: none;}</style><div id=\"sk-container-id-2\" class=\"sk-top-container\"><div class=\"sk-text-repr-fallback\"><pre>LogisticRegression()</pre><b>In a Jupyter environment, please rerun this cell to show the HTML representation or trust the notebook. <br />On GitHub, the HTML representation is unable to render, please try loading this page with nbviewer.org.</b></div><div class=\"sk-container\" hidden><div class=\"sk-item\"><div class=\"sk-estimator sk-toggleable\"><input class=\"sk-toggleable__control sk-hidden--visually\" id=\"sk-estimator-id-2\" type=\"checkbox\" checked><label for=\"sk-estimator-id-2\" class=\"sk-toggleable__label sk-toggleable__label-arrow\">LogisticRegression</label><div class=\"sk-toggleable__content\"><pre>LogisticRegression()</pre></div></div></div></div></div>"
      ],
      "text/plain": [
       "LogisticRegression()"
      ]
     },
     "execution_count": 103,
     "metadata": {},
     "output_type": "execute_result"
    }
   ],
   "source": [
    "model=LogisticRegression()\n",
    "model.fit(x,final)"
   ]
  },
  {
   "cell_type": "code",
   "execution_count": 15,
   "id": "e07f1e9f-ac40-4381-94be-23f51b36f84f",
   "metadata": {},
   "outputs": [
    {
     "ename": "NameError",
     "evalue": "name 're' is not defined",
     "output_type": "error",
     "traceback": [
      "\u001b[1;31m---------------------------------------------------------------------------\u001b[0m",
      "\u001b[1;31mNameError\u001b[0m                                 Traceback (most recent call last)",
      "Cell \u001b[1;32mIn[15], line 12\u001b[0m\n\u001b[0;32m     10\u001b[0m             new\u001b[38;5;241m=\u001b[39mnew\u001b[38;5;241m+\u001b[39mps\u001b[38;5;241m.\u001b[39mstem(i)\u001b[38;5;241m+\u001b[39m\u001b[38;5;124m'\u001b[39m\u001b[38;5;124m \u001b[39m\u001b[38;5;124m'\u001b[39m\n\u001b[0;32m     11\u001b[0m     \u001b[38;5;28;01mreturn\u001b[39;00m new\n\u001b[1;32m---> 12\u001b[0m cor3\u001b[38;5;241m=\u001b[39mclean(sample)\n\u001b[0;32m     14\u001b[0m \u001b[38;5;28mprint\u001b[39m(cor3)\n\u001b[0;32m     15\u001b[0m x\u001b[38;5;241m=\u001b[39mcv\u001b[38;5;241m.\u001b[39mtransform([cor3])\n",
      "Cell \u001b[1;32mIn[15], line 5\u001b[0m, in \u001b[0;36mclean\u001b[1;34m(sample)\u001b[0m\n\u001b[0;32m      2\u001b[0m \u001b[38;5;28;01mdef\u001b[39;00m \u001b[38;5;21mclean\u001b[39m(sample):\n\u001b[0;32m      3\u001b[0m     sample\u001b[38;5;241m.\u001b[39mlower()\n\u001b[1;32m----> 5\u001b[0m     cor2\u001b[38;5;241m=\u001b[39mre\u001b[38;5;241m.\u001b[39msub(\u001b[38;5;124m'\u001b[39m\u001b[38;5;124m[^a-z ]\u001b[39m\u001b[38;5;124m'\u001b[39m,\u001b[38;5;124m'\u001b[39m\u001b[38;5;124m'\u001b[39m,sample)\n\u001b[0;32m      6\u001b[0m     tokens\u001b[38;5;241m=\u001b[39mcor2\u001b[38;5;241m.\u001b[39msplit()\n\u001b[0;32m      7\u001b[0m     new\u001b[38;5;241m=\u001b[39m\u001b[38;5;124m'\u001b[39m\u001b[38;5;124m'\u001b[39m\n",
      "\u001b[1;31mNameError\u001b[0m: name 're' is not defined"
     ]
    }
   ],
   "source": [
    "sample='food quality is good'\n",
    "def clean(sample):\n",
    "    sample.lower()\n",
    "    \n",
    "    cor2=re.sub('[^a-z ]','',sample)\n",
    "    tokens=cor2.split()\n",
    "    new=''\n",
    "    for i in tokens:\n",
    "        if i not in sw:\n",
    "            new=new+ps.stem(i)+' '\n",
    "    return new\n",
    "cor3=clean(sample)\n",
    "\n",
    "print(cor3)\n",
    "x=cv.transform([cor3])\n",
    "print(x.toarray())\n",
    "\n",
    "model.predict(x)\n",
    "    "
   ]
  },
  {
   "cell_type": "code",
   "execution_count": 2,
   "id": "579c38e8-3fd9-47e5-9b8e-d1e7196eb398",
   "metadata": {},
   "outputs": [],
   "source": [
    "import pandas as pd"
   ]
  },
  {
   "cell_type": "code",
   "execution_count": 10,
   "id": "214d9a9a-6201-4184-a145-2ce9a8fd8d90",
   "metadata": {},
   "outputs": [],
   "source": [
    "\n",
    "df=pd.read_csv(\"dataset/Restaurant_Reviews.csv\",sep='\\t')"
   ]
  },
  {
   "cell_type": "code",
   "execution_count": 16,
   "id": "e1eba17b-bf10-417b-8782-f842a7da6127",
   "metadata": {},
   "outputs": [],
   "source": [
    "x=df.Review\n",
    "y=df.Liked"
   ]
  },
  {
   "cell_type": "code",
   "execution_count": 19,
   "id": "e8ff9fe3-1ab1-4b4c-a3bd-db533c075603",
   "metadata": {},
   "outputs": [],
   "source": [
    "import re\n",
    "from nltk.corpus import stopwords\n",
    "sw=stopwords.words('english')\n",
    "sw.remove('not')\n",
    "from nltk.stem import PorterStemmer\n",
    "ps=PorterStemmer()\n",
    "from sklearn.feature_extraction.text import CountVectorizer,TfidfVectorizer\n",
    "cv=CountVectorizer()\n",
    "from sklearn.linear_model import LogisticRegression\n",
    "model=LogisticRegression()"
   ]
  },
  {
   "cell_type": "code",
   "execution_count": 20,
   "id": "2f8f2527-992f-4cac-8b73-f88d291bbe61",
   "metadata": {},
   "outputs": [
    {
     "name": "stdout",
     "output_type": "stream",
     "text": [
      "[[0 0 0 ... 0 0 0]\n",
      " [0 0 0 ... 0 0 0]\n",
      " [0 0 0 ... 0 0 0]\n",
      " ...\n",
      " [0 0 0 ... 0 0 0]\n",
      " [0 0 0 ... 0 0 0]\n",
      " [0 0 0 ... 0 0 0]]\n"
     ]
    },
    {
     "data": {
      "text/html": [
       "<style>#sk-container-id-1 {color: black;background-color: white;}#sk-container-id-1 pre{padding: 0;}#sk-container-id-1 div.sk-toggleable {background-color: white;}#sk-container-id-1 label.sk-toggleable__label {cursor: pointer;display: block;width: 100%;margin-bottom: 0;padding: 0.3em;box-sizing: border-box;text-align: center;}#sk-container-id-1 label.sk-toggleable__label-arrow:before {content: \"▸\";float: left;margin-right: 0.25em;color: #696969;}#sk-container-id-1 label.sk-toggleable__label-arrow:hover:before {color: black;}#sk-container-id-1 div.sk-estimator:hover label.sk-toggleable__label-arrow:before {color: black;}#sk-container-id-1 div.sk-toggleable__content {max-height: 0;max-width: 0;overflow: hidden;text-align: left;background-color: #f0f8ff;}#sk-container-id-1 div.sk-toggleable__content pre {margin: 0.2em;color: black;border-radius: 0.25em;background-color: #f0f8ff;}#sk-container-id-1 input.sk-toggleable__control:checked~div.sk-toggleable__content {max-height: 200px;max-width: 100%;overflow: auto;}#sk-container-id-1 input.sk-toggleable__control:checked~label.sk-toggleable__label-arrow:before {content: \"▾\";}#sk-container-id-1 div.sk-estimator input.sk-toggleable__control:checked~label.sk-toggleable__label {background-color: #d4ebff;}#sk-container-id-1 div.sk-label input.sk-toggleable__control:checked~label.sk-toggleable__label {background-color: #d4ebff;}#sk-container-id-1 input.sk-hidden--visually {border: 0;clip: rect(1px 1px 1px 1px);clip: rect(1px, 1px, 1px, 1px);height: 1px;margin: -1px;overflow: hidden;padding: 0;position: absolute;width: 1px;}#sk-container-id-1 div.sk-estimator {font-family: monospace;background-color: #f0f8ff;border: 1px dotted black;border-radius: 0.25em;box-sizing: border-box;margin-bottom: 0.5em;}#sk-container-id-1 div.sk-estimator:hover {background-color: #d4ebff;}#sk-container-id-1 div.sk-parallel-item::after {content: \"\";width: 100%;border-bottom: 1px solid gray;flex-grow: 1;}#sk-container-id-1 div.sk-label:hover label.sk-toggleable__label {background-color: #d4ebff;}#sk-container-id-1 div.sk-serial::before {content: \"\";position: absolute;border-left: 1px solid gray;box-sizing: border-box;top: 0;bottom: 0;left: 50%;z-index: 0;}#sk-container-id-1 div.sk-serial {display: flex;flex-direction: column;align-items: center;background-color: white;padding-right: 0.2em;padding-left: 0.2em;position: relative;}#sk-container-id-1 div.sk-item {position: relative;z-index: 1;}#sk-container-id-1 div.sk-parallel {display: flex;align-items: stretch;justify-content: center;background-color: white;position: relative;}#sk-container-id-1 div.sk-item::before, #sk-container-id-1 div.sk-parallel-item::before {content: \"\";position: absolute;border-left: 1px solid gray;box-sizing: border-box;top: 0;bottom: 0;left: 50%;z-index: -1;}#sk-container-id-1 div.sk-parallel-item {display: flex;flex-direction: column;z-index: 1;position: relative;background-color: white;}#sk-container-id-1 div.sk-parallel-item:first-child::after {align-self: flex-end;width: 50%;}#sk-container-id-1 div.sk-parallel-item:last-child::after {align-self: flex-start;width: 50%;}#sk-container-id-1 div.sk-parallel-item:only-child::after {width: 0;}#sk-container-id-1 div.sk-dashed-wrapped {border: 1px dashed gray;margin: 0 0.4em 0.5em 0.4em;box-sizing: border-box;padding-bottom: 0.4em;background-color: white;}#sk-container-id-1 div.sk-label label {font-family: monospace;font-weight: bold;display: inline-block;line-height: 1.2em;}#sk-container-id-1 div.sk-label-container {text-align: center;}#sk-container-id-1 div.sk-container {/* jupyter's `normalize.less` sets `[hidden] { display: none; }` but bootstrap.min.css set `[hidden] { display: none !important; }` so we also need the `!important` here to be able to override the default hidden behavior on the sphinx rendered scikit-learn.org. See: https://github.com/scikit-learn/scikit-learn/issues/21755 */display: inline-block !important;position: relative;}#sk-container-id-1 div.sk-text-repr-fallback {display: none;}</style><div id=\"sk-container-id-1\" class=\"sk-top-container\"><div class=\"sk-text-repr-fallback\"><pre>LogisticRegression()</pre><b>In a Jupyter environment, please rerun this cell to show the HTML representation or trust the notebook. <br />On GitHub, the HTML representation is unable to render, please try loading this page with nbviewer.org.</b></div><div class=\"sk-container\" hidden><div class=\"sk-item\"><div class=\"sk-estimator sk-toggleable\"><input class=\"sk-toggleable__control sk-hidden--visually\" id=\"sk-estimator-id-1\" type=\"checkbox\" checked><label for=\"sk-estimator-id-1\" class=\"sk-toggleable__label sk-toggleable__label-arrow\">LogisticRegression</label><div class=\"sk-toggleable__content\"><pre>LogisticRegression()</pre></div></div></div></div></div>"
      ],
      "text/plain": [
       "LogisticRegression()"
      ]
     },
     "execution_count": 20,
     "metadata": {},
     "output_type": "execute_result"
    }
   ],
   "source": [
    "\n",
    "def clean(sample):\n",
    "    sample.lower()\n",
    "    \n",
    "    cor2=re.sub('[^a-z ]','',sample)\n",
    "    tokens=cor2.split()\n",
    "    new=''\n",
    "    for i in tokens:\n",
    "        if i not in sw:\n",
    "            new=new+ps.stem(i)+' '\n",
    "    return new\n",
    "\n",
    "cor3=list(map(clean,x))\n",
    "\n",
    "\n",
    "x1=cv.fit_transform(cor3)\n",
    "print(x1.toarray())\n",
    "model.fit(x1,y)    "
   ]
  },
  {
   "cell_type": "code",
   "execution_count": 29,
   "id": "1f2cf077-4c80-4ad2-b439-16b463d8d1cd",
   "metadata": {},
   "outputs": [
    {
     "name": "stdin",
     "output_type": "stream",
     "text": [
      "Enter the review for restaurant: Food is not good\n"
     ]
    },
    {
     "name": "stdout",
     "output_type": "stream",
     "text": [
      "negative\n"
     ]
    }
   ],
   "source": [
    "Review=input(\"Enter the review for restaurant:\")\n",
    "def clean(sample):\n",
    "    sample.lower()\n",
    "    \n",
    "    cor2=re.sub('[^a-z ]','',sample)\n",
    "    tokens=cor2.split()\n",
    "    new=''\n",
    "    for i in tokens:\n",
    "        if i not in sw:\n",
    "            new=new+ps.stem(i)+' '\n",
    "    return new\n",
    "cor3=clean(Review)\n",
    "x=cv.transform([cor3])\n",
    "y_hat=model.predict(x)\n",
    "if y_hat==1:\n",
    "    print(\"positive\")\n",
    "else:\n",
    "    print(\"negative\")"
   ]
  },
  {
   "cell_type": "code",
   "execution_count": null,
   "id": "80a9d5f7-c372-421e-99b8-55e2b2d4b2ae",
   "metadata": {},
   "outputs": [],
   "source": []
  }
 ],
 "metadata": {
  "kernelspec": {
   "display_name": "Python 3 (ipykernel)",
   "language": "python",
   "name": "python3"
  },
  "language_info": {
   "codemirror_mode": {
    "name": "ipython",
    "version": 3
   },
   "file_extension": ".py",
   "mimetype": "text/x-python",
   "name": "python",
   "nbconvert_exporter": "python",
   "pygments_lexer": "ipython3",
   "version": "3.11.7"
  }
 },
 "nbformat": 4,
 "nbformat_minor": 5
}
